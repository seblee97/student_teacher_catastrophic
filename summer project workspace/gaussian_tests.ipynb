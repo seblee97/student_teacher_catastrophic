{
 "cells": [
  {
   "cell_type": "markdown",
   "id": "a2c60353",
   "metadata": {},
   "source": [
    "# Investigation of Gaussian Convolutions in N dimensional Space"
   ]
  },
  {
   "cell_type": "markdown",
   "id": "b907f41b",
   "metadata": {},
   "source": [
    "Aims:\n",
    "We propose a solution to the question of replay in the context of catastrophic forgetting. An attempt is made to create a 'net' to capture high-quallity 'reward' input vectors which contribute to learning. These vectors will be used in replay schemes.\n",
    "\n",
    "For useful analysis to be made, there is a need for meaningful variation in input vector space. The current sampling technique uses a gaussian and thus forms an N dimensional sphere which is isotropic. This is not helpful for our analysis of finding high quality points. \n",
    "\n",
    "We attempt to 'mask' the gaussian using convolutions of other probability distributions. \n",
    "\n",
    "Examples include:\n",
    "- Exponential\n",
    "- Tent Function\n",
    "- Uniform Dist (with skew)\n",
    "- Parabolic"
   ]
  },
  {
   "cell_type": "markdown",
   "id": "0e6b1598",
   "metadata": {},
   "source": [
    "Import Libraries"
   ]
  },
  {
   "cell_type": "code",
   "execution_count": 21,
   "id": "23d097ec",
   "metadata": {},
   "outputs": [],
   "source": [
    "import matplotlib.pyplot as plt\n",
    "import numpy as np\n",
    "from numpy.random import default_rng\n",
    "import scipy as sp\n",
    "import scipy.special\n",
    "import random\n",
    "import torch"
   ]
  },
  {
   "cell_type": "code",
   "execution_count": 22,
   "id": "948038bf",
   "metadata": {},
   "outputs": [],
   "source": [
    "rng = default_rng() #add this to config/__init__ if no random generator present already"
   ]
  },
  {
   "cell_type": "markdown",
   "id": "a92f9290",
   "metadata": {},
   "source": [
    "### A short note on scaling:\n",
    "We need to scale our values by the scale of the expected magnitude of a standard multivariate gaussian vector. \n",
    "\n",
    "Nish (@Nishil Patel on Slack) kindly provided the following code for scaling an N dimensional gaussian vector of variance=1. Notes are my own (Ariel).\n",
    "\n",
    "Scaling our variance by any value other than 1 means we need to multiply our new magnitude (i.e. the new mean) by sqrt(new variance). "
   ]
  },
  {
   "cell_type": "code",
   "execution_count": 3,
   "id": "2ad031fa",
   "metadata": {},
   "outputs": [],
   "source": [
    "def magnitude(n):\n",
    "  if n % 2 == 0:\n",
    "    a, b = n+1, n/2\n",
    "    c = 1\n",
    "    for i in range(int(n/2-1)):\n",
    "      a, b = a-2, b-1\n",
    "      c = c*a/(2*b)\n",
    "    return np.sqrt(np.pi/2)*c #multiply by pi/2 due to the last remaining factor in the factorial multiplication being even i.e. n=2\n",
    "  else:\n",
    "    a, b = (n+1)/2, n\n",
    "    c = 1\n",
    "    for i in range(int((n-1)/2)):\n",
    "      a, b = a-1, b-2\n",
    "      c = c*2*a/b\n",
    "    return np.sqrt(2/np.pi)*c #last factor in factorial is n=1, which has a gamma function value of sqrt(2/pi)\n",
    "\n",
    "#for reference, look at https://stats.stackexchange.com/questions/167133/expected-magnitude-of-a-vector-from-a-multivariate-normal\n"
   ]
  },
  {
   "cell_type": "code",
   "execution_count": 6,
   "id": "3a5f1dd8",
   "metadata": {},
   "outputs": [
    {
     "data": {
      "image/png": "[encoded data removed]",
      "text/plain": [
       "<Figure size 432x288 with 1 Axes>"
      ]
     },
     "metadata": {
      "needs_background": "light"
     },
     "output_type": "display_data"
    }
   ],
   "source": [
    "#visualise dimensionality and scale\n",
    "\n",
    "n = np.arange(1, 1000, 1)\n",
    "y = [magnitude(_) for _ in n]\n",
    "\n",
    "plt.plot(n, y)\n",
    "#plt.grid()\n",
    "plt.ylabel('Input Vector Norm')\n",
    "plt.xlabel('Dimension')\n",
    "plt.show()"
   ]
  },
  {
   "cell_type": "markdown",
   "id": "ee9843fe",
   "metadata": {},
   "source": [
    "### Test for exponential convolved with gaussian."
   ]
  },
  {
   "cell_type": "code",
   "execution_count": 1,
   "id": "930ab9d7",
   "metadata": {},
   "outputs": [],
   "source": [
    "#analytic solution of Ex-Gauss dist:\n",
    "def convolve_exp_norm(gamma, mu=0, sigma, tau=0, x):\n",
    "    \"\"\"\n",
    "    Parameters:\n",
    "    gamma = index of exponential\n",
    "    mu = mean of the Gaussian (i.e. the centroid). If none-zero it is an offset\n",
    "    sigma = std of normal distribution\n",
    "    x = input value\n",
    "    tau = pdf offset\n",
    "\n",
    "\n",
    "    \"\"\"\n",
    "    co = (gamma/2.0) * np.exp( gamma*mu+ gamma*gamma*sigma*sigma/2.0)\n",
    "    x_erf = (mu + gamma*sigma*sigma - x - tau)/(np.sqrt(2.0)*sigma)\n",
    "    y = co * np.exp(-gamma*(x + tau)) * (1.0 - scipy.special.erf(x_erf))\n",
    "    return y\n",
    "\n",
    "def exGauss_scaling(x, sigma, gamma):\n",
    "    \"\"\"\n",
    "    x = input vector (array)\n",
    "    sigma = std of gaussian\n",
    "    gamma = index of exponential\n",
    "    \"\"\"\n",
    "    varNew = sigma*2 + 1/gamma*gamma\n",
    "    sigmaNew = np.sqrt(varNew)\n",
    "    y = sigmaNew*x\n",
    "    return y\n",
    "# Randomly sample parameters\n",
    "# Debate between using gaussian vs uniform random dist for parameter sampling. This affects our scaling!\n",
    "# I am not sure (as of yet) how to apply the scaling to our problem. Pretty sure we just multiply each sample component\n",
    "# of the input vector by the new scale, but I could be wrong"
   ]
  },
  {
   "cell_type": "markdown",
   "id": "fd9d9a20",
   "metadata": {},
   "source": [
    "Using a gaussian to randomly sample the parameter values for the convolution will make sure our input distributions are mostly similar and we can highlight the rare events. However, using a uniform dist will allow us to have an unbiased view of which inputs are best..."
   ]
  },
  {
   "cell_type": "code",
   "execution_count": null,
   "id": "6e6fa1ec",
   "metadata": {},
   "outputs": [],
   "source": [
    "#test convolution\n",
    "x = np.arange(-5.0,5.0,0.1)\n",
    "gamma = 1.0 # index of the exponential function\n",
    "sigma = 0.5 # dispersion of the normal distribution\n",
    "mu = 0 # center of the normal distribution\n",
    "tau = -0.5 # offset of exponential"
   ]
  },
  {
   "cell_type": "code",
   "execution_count": null,
   "id": "0c080418",
   "metadata": {},
   "outputs": [],
   "source": [
    "#uniform dist\n",
    "def uniform_params(varChange = False, muChange = False):\n",
    "    if muChange:\n",
    "        mu = rng.uniform(-3, 3)\n",
    "    else:\n",
    "        mu = 0.0\n",
    "    if varChange:\n",
    "        sigma = rng.uniform(0.5, 1.5)\n",
    "    tau = rng.uniform(-3*sigma-abs(mu), 3*sigma+abs(mu))\n",
    "    gamma = rng.random()\n",
    "    return gamma, mu, sigma, tau\n",
    "    \n",
    "#for gaussian dist use rng.multivariate_normal"
   ]
  },
  {
   "cell_type": "markdown",
   "id": "9aa15781",
   "metadata": {},
   "source": []
  }
 ],
 "metadata": {
  "kernelspec": {
   "display_name": "Python 3 (ipykernel)",
   "language": "python",
   "name": "python3"
  },
  "language_info": {
   "codemirror_mode": {
    "name": "ipython",
    "version": 3
   },
   "file_extension": ".py",
   "mimetype": "text/x-python",
   "name": "python",
   "nbconvert_exporter": "python",
   "pygments_lexer": "ipython3",
   "version": "3.10.5"
  },
  "vscode": {
   "interpreter": {
    "hash": "954a165b5e2e1e721a08ff56dda67b5112531629a0d1c201d72c8216f3e90fc2"
   }
  }
 },
 "nbformat": 4,
 "nbformat_minor": 5
}
