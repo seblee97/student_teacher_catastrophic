{
 "cells": [
  {
   "cell_type": "code",
   "execution_count": 1,
   "id": "b3874a46-5e34-4290-af89-d35b66f67a83",
   "metadata": {
    "tags": []
   },
   "outputs": [],
   "source": [
    "from typing import Dict\n",
    "from typing import Union\n",
    "\n",
    "import torch\n",
    "import torch.distributions as tdist\n",
    "from torch.utils.data import DataLoader\n"
   ]
  },
  {
   "cell_type": "code",
   "execution_count": 2,
   "id": "d48a2289-6d5e-41dd-8af7-829f89540e50",
   "metadata": {},
   "outputs": [],
   "source": [
    "class ConvolvedDataset(torch.utils.data.Dataset):\n",
    "    def __init__(\n",
    "        self,\n",
    "        dataset_size: int,\n",
    "        distribution: torch.distributions.Normal,\n",
    "        input_dimension,\n",
    "    ) -> None:\n",
    "        self._dataset_size = dataset_size\n",
    "        self._data_distribution = distribution\n",
    "        self._input_dimension = input_dimension\n",
    "\n",
    "        self._fixed_dataset = self._data_distribution.sample(\n",
    "            (self._dataset_size, self._input_dimension)\n",
    "        )\n",
    "\n",
    "    def __len__(self):\n",
    "        return self._dataset_size\n",
    "\n",
    "    def __getitem__(self, idx):\n",
    "        return self._fixed_dataset[idx]\n",
    "\n",
    "\n",
    "    "
   ]
  },
  {
   "cell_type": "code",
   "execution_count": 5,
   "id": "346f4672-2051-481c-b119-d890344124a5",
   "metadata": {},
   "outputs": [],
   "source": [
    "import abc\n",
    "from typing import Dict\n",
    "\n",
    "import torch\n",
    "\n",
    "\n",
    "class BaseData(abc.ABC):\n",
    "    \"\"\"Class for handling data\n",
    "\n",
    "    Abstract methods that need to be implemented:\n",
    "\n",
    "    - get_test_data\n",
    "    - get_batch\n",
    "    - signal_task_bounary_to_data_generator\n",
    "    \"\"\"\n",
    "\n",
    "    def __init__(\n",
    "        self, train_batch_size: int, test_batch_size: int, input_dimension: int\n",
    "    ):\n",
    "        \"\"\"Class constructor\"\"\"\n",
    "        self._train_batch_size = train_batch_size\n",
    "        self._test_batch_size = test_batch_size\n",
    "        self._input_dimension = input_dimension\n",
    "\n",
    "    @abc.abstractmethod\n",
    "    def get_test_data(self) -> Dict[str, torch.Tensor]:\n",
    "        \"\"\"returns fixed test data sets (data and labels)\"\"\"\n",
    "        raise NotImplementedError(\"Base class method\")\n",
    "\n",
    "    @abc.abstractmethod\n",
    "    def get_batch(self) -> Dict[str, torch.Tensor]:\n",
    "        \"\"\"returns batch of training data (input data and label if relevant)\"\"\"\n",
    "        raise NotImplementedError(\"Base class method\")\n"
   ]
  },
  {
   "cell_type": "code",
   "execution_count": 6,
   "id": "d6c972d5-4c46-49fb-8b89-a281f0a5068a",
   "metadata": {},
   "outputs": [],
   "source": [
    "class ConvolvedData(BaseData):\n",
    "    \"\"\"Class for generating data convolved from multiple distributions.\"\"\"\n",
    "\n",
    "    def __init__(\n",
    "        self,\n",
    "        train_batch_size: int,\n",
    "        test_batch_size: int,\n",
    "        input_dimension: int,\n",
    "        mean: Union[int, float],\n",
    "        variance: Union[int, float],\n",
    "        dataset_size: Union[str, int],\n",
    "    ):\n",
    "        super().__init__(\n",
    "            train_batch_size=train_batch_size,\n",
    "            test_batch_size=test_batch_size,\n",
    "            input_dimension=input_dimension,\n",
    "        )\n",
    "\n",
    "        self._data_distribution = tdist.Normal(mean, variance)\n",
    "\n",
    "        self._dataset_size = dataset_size\n",
    "\n",
    "    def get_test_data(self) -> Dict[str, torch.Tensor]:\n",
    "        \"\"\"Give fixed test data set (input data only).\"\"\"\n",
    "        test_input_data = self._data_distribution.sample(\n",
    "            (self._test_batch_size, self._input_dimension)\n",
    "        )\n",
    "\n",
    "        test_data_dict = {\"x\": test_input_data}\n",
    "\n",
    "        return test_data_dict\n",
    "\n",
    "    def get_batch(self) -> Dict[str, torch.Tensor]:\n",
    "        \"\"\"Returns batch of training data (input only)\"\"\"\n",
    "        batch = self._get_infinite_dataset_batch()\n",
    "        return {\"x\": batch}\n",
    "\n",
    "    def _get_finite_dataset_batch(self) -> torch.Tensor:\n",
    "        try:\n",
    "            batch = next(iter(self._data_iterator))\n",
    "        except StopIteration:\n",
    "            self._reset_data_iterator()\n",
    "            batch = next(iter(self._data_iterator))\n",
    "        return batch\n",
    "\n",
    "    def _get_infinite_dataset_batch(self) -> torch.Tensor:\n",
    "        #This is where we need to change the code\n",
    "        batch = self._data_distribution.sample(\n",
    "            (self._train_batch_size, self._input_dimension)\n",
    "        )\n",
    "        return batch\n",
    "\n",
    "    def _reset_data_iterator(self):\n",
    "        self._dataloader = DataLoader(\n",
    "            self._dataset, batch_size=self._train_batch_size, shuffle=True\n",
    "        )\n",
    "        self._data_iterator = iter(self._dataloader)"
   ]
  },
  {
   "cell_type": "code",
   "execution_count": 3,
   "id": "aab37805-8b2b-4144-9ebe-f418b3e0fd07",
   "metadata": {},
   "outputs": [
    {
     "name": "stdout",
     "output_type": "stream",
     "text": [
      "tensor([[ 1.0535, -0.3791, -0.5424, -1.0070, -0.3646,  0.9901, -0.6188, -1.3972,\n",
      "          1.7966, -0.6065],\n",
      "        [-0.0409, -0.7957,  0.0602, -0.1212,  0.6674, -0.0731,  0.5931,  0.1556,\n",
      "          0.1339,  0.3766]])\n"
     ]
    }
   ],
   "source": [
    "dist = tdist.Normal(0, 1)\n",
    "batch = dist.sample((2, 10))\n",
    "print(batch)"
   ]
  },
  {
   "cell_type": "code",
   "execution_count": 14,
   "id": "c6d2f9d5-7350-4e2d-aa3e-fe8afda0cafc",
   "metadata": {},
   "outputs": [
    {
     "name": "stdout",
     "output_type": "stream",
     "text": [
      "tensor([[0.5913, 0.0294, 0.4440, 0.0527, 0.4132, 0.3991, 0.7649, 0.4243, 0.8228,\n",
      "         0.4196],\n",
      "        [0.4653, 0.9533, 0.4380, 0.4892, 0.4921, 0.2982, 0.5418, 0.6130, 0.5040,\n",
      "         0.2041]])\n"
     ]
    }
   ],
   "source": [
    "dist = tdist.Uniform(0, 1)\n",
    "batch = dist.sample((2, 10))\n",
    "print(batch)"
   ]
  },
  {
   "cell_type": "code",
   "execution_count": 20,
   "id": "96aced8d-ad85-449f-845a-183d76742fe3",
   "metadata": {},
   "outputs": [
    {
     "name": "stdout",
     "output_type": "stream",
     "text": [
      "[1 2 3 4 5 6 7 8 9]\n"
     ]
    }
   ],
   "source": [
    "import numpy as np\n",
    "print(np.arange(1, 10, 1))"
   ]
  },
  {
   "cell_type": "code",
   "execution_count": 4,
   "id": "292273d3-c0a3-464b-9587-6b277acf1a12",
   "metadata": {},
   "outputs": [],
   "source": [
    "import numpy as np\n",
    "import matplotlib.pyplot as plt\n",
    "from numpy.random import default_rng\n",
    "import scipy as sp\n",
    "import scipy.special\n",
    "import random\n",
    "import torch\n",
    "def convolve_exp_norm(gamma, sigma, x, mu=0, tau=0):\n",
    "    \"\"\"\n",
    "    Parameters:\n",
    "    gamma = index of exponential\n",
    "    mu = mean of the Gaussian (i.e. the centroid). If none-zero it is an offset\n",
    "    sigma = std of normal distribution\n",
    "    x = input value\n",
    "    tau = pdf offset\n",
    "\n",
    "\n",
    "    \"\"\"\n",
    "    co = (gamma/2.0) * np.exp( gamma*mu+ gamma*gamma*sigma*sigma/2.0)\n",
    "    x_erf = (mu + gamma*sigma*sigma - x - tau)/(np.sqrt(2.0)*sigma)\n",
    "    y = co * np.exp(-gamma*(x + tau)) * (1.0 - scipy.special.erf(x_erf))\n",
    "    return y\n"
   ]
  },
  {
   "cell_type": "code",
   "execution_count": 11,
   "id": "3a095bd1-c8b4-4b45-85b8-8bd2e500611f",
   "metadata": {},
   "outputs": [
    {
     "data": {
      "text/plain": [
       "0.17953268548352722"
      ]
     },
     "execution_count": 11,
     "metadata": {},
     "output_type": "execute_result"
    }
   ],
   "source": [
    "convolve_exp_norm(1, 2, 0.5)"
   ]
  },
  {
   "cell_type": "code",
   "execution_count": 12,
   "id": "f7434bfe-005e-4963-af37-7f4088715585",
   "metadata": {},
   "outputs": [
    {
     "data": {
      "image/png": "[encoded data removed]",
      "text/plain": [
       "<Figure size 432x288 with 1 Axes>"
      ]
     },
     "metadata": {
      "needs_background": "light"
     },
     "output_type": "display_data"
    }
   ],
   "source": [
    "n = np.arange(-4, 4, 0.01)\n",
    "y = [convolve_exp_norm(0.25, 1, _, -3, 0) for _ in n]\n",
    "\n",
    "plt.plot(n, y)\n",
    "#plt.grid()\n",
    "plt.ylabel('Value')\n",
    "plt.xlabel('Input')\n",
    "plt.show()"
   ]
  },
  {
   "cell_type": "code",
   "execution_count": 14,
   "id": "6a432db7-4bbe-469e-a23e-acfacbff1cfd",
   "metadata": {},
   "outputs": [
    {
     "data": {
      "image/png": "[encoded data removed]",
      "text/plain": [
       "<Figure size 432x288 with 1 Axes>"
      ]
     },
     "metadata": {
      "needs_background": "light"
     },
     "output_type": "display_data"
    }
   ],
   "source": [
    "import scipy.integrate as integrate\n",
    "import scipy.special as special\n",
    "from pynverse import inversefunc\n",
    "\n",
    "def convolved_cdf(p):\n",
    "    result = integrate.quad(lambda x: convolve_exp_norm(1, 1, x), -5, p)\n",
    "    return result\n",
    "\n",
    "n = np.arange(-5, 5, 0.01)\n",
    "y = [convolved_cdf(_) for _ in n]\n",
    "plt.plot(n, y)\n",
    "#plt.grid()\n",
    "plt.ylabel('Value')\n",
    "plt.xlabel('Input')\n",
    "plt.show()"
   ]
  },
  {
   "cell_type": "code",
   "execution_count": 70,
   "id": "821adb26-bdba-4255-bf99-a989007bd2f2",
   "metadata": {},
   "outputs": [
    {
     "name": "stderr",
     "output_type": "stream",
     "text": [
      "No handles with labels found to put in legend.\n"
     ]
    },
    {
     "data": {
      "image/png": "[encoded data removed]",
      "text/plain": [
       "<Figure size 432x288 with 1 Axes>"
      ]
     },
     "metadata": {
      "needs_background": "light"
     },
     "output_type": "display_data"
    }
   ],
   "source": [
    "from scipy.stats import exponnorm\n",
    "\n",
    "k = np.linspace(2.5,0,5, endpoint=False)\n",
    "mean = np.linspace(-3,3,5)\n",
    "std = np.linspace(0.5, 0, 5, endpoint = False)\n",
    "x = [np.linspace(exponnorm.ppf(0.01,i,loc = j, scale = 1), exponnorm.ppf(0.99, i, loc = j, scale = z), 100) for i,j,z in zip(k, mean, std)]\n",
    "y = [exponnorm(i, loc = j, scale = z).rvs(size=1000) for i,j,z in  zip(k,mean, std)]\n",
    "fig, ax = plt.subplots(1, 1)\n",
    "for _ in range(len(y)):\n",
    "    plt.plot(x[_], exponnorm.pdf(x[_],k[_], loc = mean[_], scale =std[_] ))\n",
    "\n",
    "ax.spines['bottom'].set_color('red')\n",
    "ax.spines['top'].set_color('red') \n",
    "ax.spines['right'].set_color('red')\n",
    "ax.spines['left'].set_color('red')\n",
    "ax.tick_params(axis='x', colors='red', which = 'both')\n",
    "ax.tick_params(axis='y', colors='red', which = 'both')\n",
    "plt.legend()\n",
    "plt.show()"
   ]
  },
  {
   "cell_type": "code",
   "execution_count": 113,
   "id": "bf49e161-9c11-4fb1-b257-2c20fda1c903",
   "metadata": {},
   "outputs": [
    {
     "name": "stdout",
     "output_type": "stream",
     "text": [
      "0.07068061828613281\n"
     ]
    }
   ],
   "source": [
    "from scipy.stats import exponnorm\n",
    "import time\n",
    "\n",
    "start = time.time()\n",
    "rv = exponnorm(0.5)\n",
    "y = 1000\n",
    "z = 500\n",
    "x = [rv.rvs(size=y) for i in range(z)]\n",
    "\n",
    "x = torch.FloatTensor(np.array(x)) \n",
    "x = x.apply_(lambda z: z*10)\n",
    "end = time.time()\n",
    "print(end-start)\n"
   ]
  },
  {
   "cell_type": "code",
   "execution_count": null,
   "id": "9fc44f53-205f-4850-a879-1e780adb137a",
   "metadata": {},
   "outputs": [],
   "source": []
  },
  {
   "cell_type": "code",
   "execution_count": null,
   "id": "3f6060eb-71d2-4bdb-bc9a-2269817a7ca7",
   "metadata": {},
   "outputs": [],
   "source": []
  }
 ],
 "metadata": {
  "kernelspec": {
   "display_name": "Python 3.8.8 ('base')",
   "language": "python",
   "name": "python3"
  },
  "language_info": {
   "codemirror_mode": {
    "name": "ipython",
    "version": 3
   },
   "file_extension": ".py",
   "mimetype": "text/x-python",
   "name": "python",
   "nbconvert_exporter": "python",
   "pygments_lexer": "ipython3",
   "version": "3.8.8"
  },
  "vscode": {
   "interpreter": {
    "hash": "954a165b5e2e1e721a08ff56dda67b5112531629a0d1c201d72c8216f3e90fc2"
   }
  }
 },
 "nbformat": 4,
 "nbformat_minor": 5
}
