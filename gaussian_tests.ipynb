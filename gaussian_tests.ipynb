{
 "cells": [
  {
   "cell_type": "markdown",
   "id": "a2c60353",
   "metadata": {},
   "source": [
    "## Investigation of Gaussian Convolutions in N dimensional Space"
   ]
  },
  {
   "cell_type": "markdown",
   "id": "b907f41b",
   "metadata": {},
   "source": [
    "Aims:\n",
    "We propose a solution to the question of replay in the context of catastrophic forgetting. An attempt is made to create a 'net' to capture high-quallity 'reward' input vectors which contribute to learning. These vectors will be used in replay schemes.\n",
    "\n",
    "For useful analysis to be made, there is a need for meaningful variation in input vector space. The current sampling technique uses a gaussian and thus forms an N dimensional sphere which is isotropic. This is not helpful for our analysis of finding high quality points. \n",
    "\n",
    "We attempt to 'mask' the gaussian using convolutions of other probability distributions. \n",
    "\n",
    "Examples include:\n",
    "- Exponential\n",
    "- Tent Function\n",
    "- Uniform Dist (with skew)\n",
    "- Parabolic"
   ]
  },
  {
   "cell_type": "markdown",
   "id": "9e63f2ef",
   "metadata": {},
   "source": [
    "# "
   ]
  },
  {
   "cell_type": "code",
   "execution_count": null,
   "id": "930ab9d7",
   "metadata": {},
   "outputs": [],
   "source": []
  }
 ],
 "metadata": {
  "kernelspec": {
   "display_name": "Python 3 (ipykernel)",
   "language": "python",
   "name": "python3"
  },
  "language_info": {
   "codemirror_mode": {
    "name": "ipython",
    "version": 3
   },
   "file_extension": ".py",
   "mimetype": "text/x-python",
   "name": "python",
   "nbconvert_exporter": "python",
   "pygments_lexer": "ipython3",
   "version": "3.8.8"
  }
 },
 "nbformat": 4,
 "nbformat_minor": 5
}
